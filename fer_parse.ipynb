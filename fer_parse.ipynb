{
 "cells": [
  {
   "cell_type": "code",
   "execution_count": 1,
   "metadata": {},
   "outputs": [],
   "source": [
    "%matplotlib inline\n",
    "\n",
    "import sys,os,time\n",
    "import numpy as np\n",
    "import matplotlib.pyplot as plt\n",
    "import cv2, pylab\n",
    "\n",
    "FER2013_DB_PATH = '/mnt/Backup/datasets/face-emotion/fer2013/fer2013.csv'\n",
    "\n",
    "db_txt_reader = open(FER2013_DB_PATH)\n",
    "db_txt_line = db_txt_reader.readline()\n",
    "\n",
    "db_train = dict()\n",
    "db_test  = dict()\n"
   ]
  },
  {
   "cell_type": "code",
   "execution_count": 2,
   "metadata": {},
   "outputs": [
    {
     "name": "stdout",
     "output_type": "stream",
     "text": [
      "3588/set generation complete\n",
      "train: 32298, test: 3589\n"
     ]
    }
   ],
   "source": [
    "db_idx = 0\n",
    "db_test_idx = 0\n",
    "\n",
    "while(1):\n",
    "    db_txt_line = db_txt_reader.readline()\n",
    "    \n",
    "    delimit_pos_0 = db_txt_line.find(',')\n",
    "    delimit_pos_1 = db_txt_line.find(',',delimit_pos_0+1)\n",
    "    db_set = db_txt_line[delimit_pos_1+1:-1]\n",
    "    \n",
    "    # training set\n",
    "    if db_set == 'Training' or db_set == 'PublicTest':\n",
    "        sys.stdout.write(\"\\r\"+str(db_idx)+'/')\n",
    "        \n",
    "        db_train[db_idx] = dict()\n",
    "        # extract label\n",
    "        db_label = db_txt_line[0:delimit_pos_0]\n",
    "        db_train[db_idx]['label'] = int(db_label)\n",
    "        # extract image\n",
    "        db_img = db_txt_line[delimit_pos_0+1:delimit_pos_1]\n",
    "        db_img = np.fromstring(db_img, sep=' ')\n",
    "        db_train[db_idx]['img'] = np.reshape(db_img, [48,48])\n",
    "        # extract set\n",
    "        db_train[db_idx]['set'] = db_set\n",
    "        \n",
    "        db_idx += 1\n",
    "        \n",
    "    # test set\n",
    "    elif db_set == 'PrivateTest':\n",
    "#         print 'trainset ends at: ' + str(db_idx)\n",
    "#         print 'testset start'\n",
    "        sys.stdout.write(\"\\r\"+str(db_test_idx)+'/')\n",
    "    \n",
    "        db_test[db_test_idx] = dict()\n",
    "        # extract label\n",
    "        db_label = db_txt_line[0:delimit_pos_0]\n",
    "        db_test[db_test_idx]['label'] = int(db_label)\n",
    "        # extract image\n",
    "        db_img = db_txt_line[delimit_pos_0+1:delimit_pos_1]\n",
    "        db_img = np.fromstring(db_img, sep=' ')\n",
    "        db_test[db_test_idx]['img'] = np.reshape(db_img, [48,48])\n",
    "        # extract set\n",
    "        db_test[db_test_idx]['set'] = db_set\n",
    "        \n",
    "        db_test_idx += 1\n",
    "    \n",
    "    else:\n",
    "        print 'set generation complete'\n",
    "        print 'train: ' + str(db_idx) + ', test: ' + str(db_test_idx)\n",
    "        break\n",
    "\n",
    "# saveas npy\n",
    "np.save('db_dict/fer2013_train.npy', db_train)\n",
    "np.save('db_dict/fer2013_test.npy', db_test)\n",
    "    \n"
   ]
  },
  {
   "cell_type": "code",
   "execution_count": 3,
   "metadata": {},
   "outputs": [
    {
     "data": {
      "text/plain": [
       "(array([   6.,   15.,   74.,  278.,  505.,  560.,  367.,  149.,   42.,    4.]),\n",
       " array([-3.7465926 , -3.02090217, -2.29521173, -1.5695213 , -0.84383086,\n",
       "        -0.11814042,  0.60755001,  1.33324045,  2.05893088,  2.78462132,\n",
       "         3.51031175]),\n",
       " <a list of 10 Patch objects>)"
      ]
     },
     "execution_count": 3,
     "metadata": {},
     "output_type": "execute_result"
    },
    {
     "data": {
      "image/png": "[encoded data removed]",
      "text/plain": [
       "<matplotlib.figure.Figure at 0x7fce39e5f250>"
      ]
     },
     "metadata": {},
     "output_type": "display_data"
    }
   ],
   "source": [
    "plt.hist(np.random.randn(2000))"
   ]
  },
  {
   "cell_type": "code",
   "execution_count": null,
   "metadata": {},
   "outputs": [],
   "source": []
  }
 ],
 "metadata": {
  "kernelspec": {
   "display_name": "Python 2",
   "language": "python",
   "name": "python2"
  },
  "language_info": {
   "codemirror_mode": {
    "name": "ipython",
    "version": 2
   },
   "file_extension": ".py",
   "mimetype": "text/x-python",
   "name": "python",
   "nbconvert_exporter": "python",
   "pygments_lexer": "ipython2",
   "version": "2.7.12"
  }
 },
 "nbformat": 4,
 "nbformat_minor": 2
}
